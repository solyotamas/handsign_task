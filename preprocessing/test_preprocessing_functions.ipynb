{
 "cells": [
  {
   "cell_type": "markdown",
   "id": "64ff6f33",
   "metadata": {},
   "source": [
    "# **Testing DataFrame preprocessing & transformation functions**\n",
    "\n",
    "*Not the pipeline just a testing field*\n",
    "\n",
    "---"
   ]
  },
  {
   "cell_type": "code",
   "execution_count": 2,
   "id": "ebf8f17c",
   "metadata": {},
   "outputs": [],
   "source": [
    "import pandas as pd\n",
    "from pathlib import Path\n",
    "from preprocessing_functions import (\n",
    "    reindex_frames,\n",
    "    handle_missing_face,\n",
    "    handle_missing_hands,\n",
    "    fill_missing_hands,\n",
    "    drop_sequences_by_missing_face,\n",
    "    resample_sequence,\n",
    "    center_around_nose,\n",
    "    scale_by_shoulder_width\n",
    ")"
   ]
  },
  {
   "cell_type": "code",
   "execution_count": 2,
   "id": "bb2907f9",
   "metadata": {},
   "outputs": [],
   "source": [
    "df_data = pd.read_csv('../asl-signs/train.csv')\n",
    "path = Path('../asl-signs')"
   ]
  },
  {
   "cell_type": "markdown",
   "id": "60d8d20c",
   "metadata": {},
   "source": [
    "## **Frame Reindexing**"
   ]
  },
  {
   "cell_type": "code",
   "execution_count": 3,
   "id": "ff05d1bb",
   "metadata": {},
   "outputs": [
    {
     "name": "stdout",
     "output_type": "stream",
     "text": [
      "Frames before:  [22 23 24 25 26 27 28]\n",
      "Frames after:  [0 1 2 3 4 5 6]\n"
     ]
    }
   ],
   "source": [
    "df = pd.read_parquet('../asl-signs/train_landmark_files/2044/635217.parquet')\n",
    "\n",
    "# ~~~~~~~~~~~~~~\n",
    "\n",
    "df_frames = df['frame'].unique()\n",
    "print(\"Frames before: \", df_frames)\n",
    "\n",
    "df_after = reindex_frames(df)\n",
    "\n",
    "df_after_frames = df_after['frame'].unique()\n",
    "print(\"Frames after: \", df_after_frames)"
   ]
  },
  {
   "cell_type": "markdown",
   "id": "73ceda33",
   "metadata": {},
   "source": [
    "## **Handle Missing Face**"
   ]
  },
  {
   "cell_type": "code",
   "execution_count": 4,
   "id": "55022939",
   "metadata": {},
   "outputs": [
    {
     "name": "stdout",
     "output_type": "stream",
     "text": [
      "path              train_landmark_files/37055/100035691.parquet\n",
      "participant_id                                           37055\n",
      "sequence_id                                          100035691\n",
      "sign                                                    flower\n",
      "Name: 8, dtype: object\n"
     ]
    }
   ],
   "source": [
    "for idx, row in df_data.iterrows():\n",
    "    path = Path('../asl-signs') / row['path']\n",
    "    seq = pd.read_parquet(path)\n",
    "    face_data = seq[seq['type'] == 'face']\n",
    "    \n",
    "    if face_data['x'].isna().any() and not face_data['x'].isna().all():\n",
    "        print(row)\n",
    "        break"
   ]
  },
  {
   "cell_type": "code",
   "execution_count": 5,
   "id": "f7796d5d",
   "metadata": {},
   "outputs": [
    {
     "name": "stdout",
     "output_type": "stream",
     "text": [
      "Missing x,y,z: x    468\n",
      "y    468\n",
      "z    468\n",
      "dtype: int64\n",
      "Missing x,y,z: x    0\n",
      "y    0\n",
      "z    0\n",
      "dtype: int64\n"
     ]
    }
   ],
   "source": [
    "df = pd.read_parquet('../asl-signs/train_landmark_files/37055/100035691.parquet')\n",
    "\n",
    "# ~~~~~~~~~~~~~~~~\n",
    "face_before = df[df['type'] == 'face']\n",
    "print(f'Missing x,y,z: {face_before[['x', 'y', 'z']].isnull().sum()}')\n",
    "\n",
    "df = handle_missing_face(df)\n",
    "\n",
    "face_after = df[df['type'] == 'face']\n",
    "print(f'Missing x,y,z: {face_after[['x', 'y', 'z']].isnull().sum()}')"
   ]
  },
  {
   "cell_type": "markdown",
   "id": "bf816ccf",
   "metadata": {},
   "source": [
    "## **Handle Missing Hands**"
   ]
  },
  {
   "cell_type": "code",
   "execution_count": 6,
   "id": "fa0928d7",
   "metadata": {},
   "outputs": [
    {
     "name": "stdout",
     "output_type": "stream",
     "text": [
      "path              train_landmark_files/34503/100137027.parquet\n",
      "participant_id                                           34503\n",
      "sequence_id                                          100137027\n",
      "sign                                                     quiet\n",
      "Name: 24, dtype: object\n"
     ]
    }
   ],
   "source": [
    "for idx, row in df_data.iterrows():\n",
    "    path = Path('../asl-signs') / row['path']\n",
    "    seq = pd.read_parquet(path)\n",
    "\n",
    "    left_hand = seq[seq['type'] == 'left_hand']\n",
    "    right_hand = seq[seq['type'] == 'right_hand']\n",
    "\n",
    "    left_hand_has_some_missing = left_hand['x'].isna().any() and not left_hand['x'].isna().all()\n",
    "    right_hand_has_some_missing = right_hand['x'].isna().any() and not right_hand['x'].isna().all()\n",
    "\n",
    "    frame = seq['frame'].nunique()\n",
    "    \n",
    "    if left_hand_has_some_missing and right_hand_has_some_missing:\n",
    "        print(row)\n",
    "        break"
   ]
  },
  {
   "cell_type": "code",
   "execution_count": 7,
   "id": "61827493",
   "metadata": {},
   "outputs": [
    {
     "name": "stdout",
     "output_type": "stream",
     "text": [
      "All hand frames: 546\n",
      "Missing left hand x,y,z: x    504\n",
      "y    504\n",
      "z    504\n",
      "dtype: int64\n",
      "Missing right hand x,y,z: x    462\n",
      "y    462\n",
      "z    462\n",
      "dtype: int64\n",
      "Missing left hand x,y,z: x    0\n",
      "y    0\n",
      "z    0\n",
      "dtype: int64\n",
      "Missing right hand x,y,z: x    0\n",
      "y    0\n",
      "z    0\n",
      "dtype: int64\n"
     ]
    }
   ],
   "source": [
    "df = pd.read_parquet('../asl-signs/train_landmark_files/34503/100137027.parquet')\n",
    "\n",
    "# ~~~~~~~~~~~~~~~~\n",
    "print(f'All hand frames: {df['frame'].nunique() * 21}')\n",
    "\n",
    "left_hand_before = df[df['type'] == 'left_hand']\n",
    "right_hand_before = df[df['type'] == 'right_hand']\n",
    "print(f'Missing left hand x,y,z: {left_hand_before[['x', 'y', 'z']].isnull().sum()}')\n",
    "print(f'Missing right hand x,y,z: {right_hand_before[['x', 'y', 'z']].isnull().sum()}')\n",
    "\n",
    "df = handle_missing_hands(df)\n",
    "\n",
    "left_hand_after = df[df['type'] == 'left_hand']\n",
    "right_hand_after = df[df['type'] == 'right_hand']\n",
    "print(f'Missing left hand x,y,z: {left_hand_after[['x', 'y', 'z']].isnull().sum()}')\n",
    "print(f'Missing right hand x,y,z: {right_hand_after[['x', 'y', 'z']].isnull().sum()}')"
   ]
  },
  {
   "cell_type": "markdown",
   "id": "09441e6e",
   "metadata": {},
   "source": [
    "## **Fill Missing Hands**"
   ]
  },
  {
   "cell_type": "code",
   "execution_count": 8,
   "id": "8bc47eb0",
   "metadata": {},
   "outputs": [
    {
     "name": "stdout",
     "output_type": "stream",
     "text": [
      "path              train_landmark_files/16069/100015657.parquet\n",
      "participant_id                                           16069\n",
      "sequence_id                                          100015657\n",
      "sign                                                     cloud\n",
      "Name: 2, dtype: object\n"
     ]
    }
   ],
   "source": [
    "for idx, row in df_data.iterrows():\n",
    "    path = Path('../asl-signs') / row['path']\n",
    "    seq = pd.read_parquet(path)\n",
    "\n",
    "    #left_hand = seq[seq['type'] == 'left_hand']\n",
    "    right_hand = seq[seq['type'] == 'right_hand']\n",
    "\n",
    "    #left_hand_missing = left_hand['x'].isna().all()\n",
    "    right_hand_missing = right_hand['x'].isna().all()\n",
    "    \n",
    "    if right_hand_missing:\n",
    "        print(row)\n",
    "        break"
   ]
  },
  {
   "cell_type": "code",
   "execution_count": 9,
   "id": "59c3e6eb",
   "metadata": {},
   "outputs": [
    {
     "name": "stdout",
     "output_type": "stream",
     "text": [
      "All right hand frames: 2205\n",
      "Missing right hand x,y,z: x    2205\n",
      "y    2205\n",
      "z    2205\n",
      "dtype: int64\n",
      "Missing right hand x,y,z: x    0\n",
      "y    0\n",
      "z    0\n",
      "dtype: int64\n"
     ]
    }
   ],
   "source": [
    "df = pd.read_parquet('../asl-signs/train_landmark_files/16069/100015657.parquet')\n",
    "\n",
    "# ~~~~~~~~~~~~~~~~\n",
    "print(f'All right hand frames: {df['frame'].nunique() * 21}')\n",
    "\n",
    "right_hand_before = df[df['type'] == 'right_hand']\n",
    "print(f'Missing right hand x,y,z: {right_hand_before[['x', 'y', 'z']].isnull().sum()}')\n",
    "\n",
    "df = fill_missing_hands(df)\n",
    "\n",
    "right_hand_after = df[df['type'] == 'right_hand']\n",
    "print(f'Missing right hand x,y,z: {right_hand_after[['x', 'y', 'z']].isnull().sum()}')"
   ]
  },
  {
   "cell_type": "markdown",
   "id": "96a97aef",
   "metadata": {},
   "source": [
    "## **Drop Sequences By Missing Face & Dataset / METADATA SAVE**"
   ]
  },
  {
   "cell_type": "code",
   "execution_count": null,
   "id": "0417cf7d",
   "metadata": {},
   "outputs": [
    {
     "name": "stderr",
     "output_type": "stream",
     "text": [
      "Dropping sequences with more than >=50.0% face frames missing..: 100%|██████████| 94477/94477 [19:07<00:00, 82.36it/s] \n"
     ]
    },
    {
     "name": "stdout",
     "output_type": "stream",
     "text": [
      "\n",
      "Sequences before: 94477\n",
      "Dropping: 343 sequences (>50.0% missing face)\n",
      "Sequences after: 94134\n"
     ]
    }
   ],
   "source": [
    "df_data = pd.read_csv('../asl-signs/train.csv')\n",
    "path = Path('../asl-signs')\n",
    "\n",
    "\n",
    "df_metadata_clean = drop_sequences_by_missing_face(df_data = df_data, path = path, threshold = 0.5)\n",
    "df_metadata_clean.to_csv('../dataset/train_clean_50_threshhold.csv')"
   ]
  },
  {
   "cell_type": "code",
   "execution_count": null,
   "id": "23cd4480",
   "metadata": {},
   "outputs": [
    {
     "name": "stderr",
     "output_type": "stream",
     "text": [
      "Dropping sequences with more than >=75.0% face frames missing..: 100%|██████████| 94477/94477 [20:48<00:00, 75.67it/s]\n"
     ]
    },
    {
     "name": "stdout",
     "output_type": "stream",
     "text": [
      "\n",
      "Sequences before: 94477\n",
      "Dropping: 100 sequences (>75.0% missing face)\n",
      "Sequences after: 94377\n"
     ]
    }
   ],
   "source": [
    "df_metadata_clean = drop_sequences_by_missing_face(df_data = df_data, path = path, threshold = 0.75)\n",
    "df_metadata_clean.to_csv('../dataset/train_clean_75_threshhold.csv')"
   ]
  },
  {
   "cell_type": "code",
   "execution_count": 13,
   "id": "d1da2209",
   "metadata": {},
   "outputs": [
    {
     "name": "stderr",
     "output_type": "stream",
     "text": [
      "Dropping sequences with more than >=100.0% face frames missing..: 100%|██████████| 94477/94477 [20:55<00:00, 75.25it/s] "
     ]
    },
    {
     "name": "stdout",
     "output_type": "stream",
     "text": [
      "\n",
      "Sequences before: 94477\n",
      "Dropping: 26 sequences (>100.0% missing face)\n",
      "Sequences after: 94451\n"
     ]
    },
    {
     "name": "stderr",
     "output_type": "stream",
     "text": [
      "\n"
     ]
    }
   ],
   "source": [
    "df_metadata_clean = drop_sequences_by_missing_face(df_data = df_data, path = path, threshold = 1.0)\n",
    "df_metadata_clean.to_csv('../dataset/train_clean_100_threshhold.csv')"
   ]
  },
  {
   "cell_type": "markdown",
   "id": "0936c7c9",
   "metadata": {},
   "source": [
    "## **Resample sequence**"
   ]
  },
  {
   "cell_type": "code",
   "execution_count": 6,
   "id": "6d602572",
   "metadata": {},
   "outputs": [
    {
     "name": "stdout",
     "output_type": "stream",
     "text": [
      "[ 0  1  2  3  4  5  6  7  8  9 10 11 12 13 14 15 16 17 18 19 20 21 22]\n",
      "[ 0  1  2  3  4  5  6  7  8  9 10 11 12 13 14 15 16 17 18 19 20 21 22 23\n",
      " 24 25 26 27 28 29 30 31 32 33 34 35 36 37 38 39 40 41 42 43 44 45 46 47\n",
      " 48 49 50 51 52 53 54 55 56 57 58 59]\n"
     ]
    },
    {
     "name": "stderr",
     "output_type": "stream",
     "text": [
      "c:\\Users\\tsoly\\Desktop\\handsigns_task\\preprocessing\\preprocessing_functions.py:121: FutureWarning: DataFrameGroupBy.apply operated on the grouping columns. This behavior is deprecated, and in a future version of pandas the grouping columns will be excluded from the operation. Either pass `include_groups=False` to exclude the groupings or explicitly select the grouping columns after groupby to silence this warning.\n",
      "  df = df.groupby('frame', group_keys=False).apply(center_frame)\n",
      "c:\\Users\\tsoly\\Desktop\\handsigns_task\\preprocessing\\preprocessing_functions.py:142: FutureWarning: DataFrameGroupBy.apply operated on the grouping columns. This behavior is deprecated, and in a future version of pandas the grouping columns will be excluded from the operation. Either pass `include_groups=False` to exclude the groupings or explicitly select the grouping columns after groupby to silence this warning.\n",
      "  df = df.groupby('frame', group_keys=False).apply(scale_frame)\n"
     ]
    }
   ],
   "source": [
    "df_clean_metadata = pd.read_csv('../dataset/train_clean_50_threshhold.csv')\n",
    "seq = df_clean_metadata.iloc[0]\n",
    "\n",
    "\n",
    "df = pd.read_parquet(Path('../asl-signs') / seq['path'])\n",
    "\n",
    "df = reindex_frames(df)\n",
    "df = handle_missing_face(df)\n",
    "df = handle_missing_hands(df)\n",
    "df = center_around_nose(df)\n",
    "df = scale_by_shoulder_width(df)\n",
    "df = fill_missing_hands(df)\n",
    "\n",
    "print(df['frame'].unique())\n",
    "df = resample_sequence(df, target_frames = 60)\n",
    "print(df['frame'].unique())"
   ]
  }
 ],
 "metadata": {
  "kernelspec": {
   "display_name": ".venv",
   "language": "python",
   "name": "python3"
  },
  "language_info": {
   "codemirror_mode": {
    "name": "ipython",
    "version": 3
   },
   "file_extension": ".py",
   "mimetype": "text/x-python",
   "name": "python",
   "nbconvert_exporter": "python",
   "pygments_lexer": "ipython3",
   "version": "3.13.2"
  }
 },
 "nbformat": 4,
 "nbformat_minor": 5
}
