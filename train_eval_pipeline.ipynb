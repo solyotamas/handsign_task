{
 "cells": [
  {
   "cell_type": "markdown",
   "id": "d614a22e",
   "metadata": {},
   "source": [
    "# **Main Pipeline**\n",
    "\n",
    "---"
   ]
  },
  {
   "cell_type": "markdown",
   "id": "8eabf428",
   "metadata": {},
   "source": [
    "## **Training preparation**"
   ]
  },
  {
   "cell_type": "code",
   "execution_count": 1,
   "id": "37de4e6c",
   "metadata": {},
   "outputs": [],
   "source": [
    "import torch\n",
    "import torch.nn as nn\n",
    "import numpy as np\n",
    "from torch.utils.data import DataLoader\n",
    "from pathlib import Path\n",
    "import pandas as pd\n",
    "from tqdm import tqdm\n",
    "import json\n",
    "import torch.optim as optim\n",
    "from sklearn.model_selection import train_test_split\n",
    "import matplotlib.pyplot as plt\n",
    "\n",
    "\n",
    "from modeling.train_eval import train_model, evaluate_model\n",
    "from modeling.dataset import SignLanguageDataset\n",
    "from modeling.model import SignLanguageCNN_pooling, SignLanguageSimple_LSTM"
   ]
  },
  {
   "cell_type": "code",
   "execution_count": 2,
   "id": "72528b84",
   "metadata": {},
   "outputs": [],
   "source": [
    "DF = 'dataset/train_clean_50_threshhold_25_signs_all_modified_path.csv'\n",
    "\n",
    "label_mapping = {}\n",
    "with open('asl-signs/sign_to_prediction_index_map.json', 'r') as f:\n",
    "    label_mapping = json.load(f)\n",
    "\n",
    "label_mapping_25 = {}\n",
    "with open('dataset/label_mapping_25.json', 'r') as f:\n",
    "    label_mapping_25 = json.load(f)\n",
    "\n",
    "\n",
    "df_metadata = pd.read_csv(DF)"
   ]
  },
  {
   "cell_type": "code",
   "execution_count": 3,
   "id": "58e11070",
   "metadata": {},
   "outputs": [
    {
     "name": "stdout",
     "output_type": "stream",
     "text": [
      "train: 8040 sequences\n",
      "val:   1005 sequences\n",
      "test:  1006 sequences\n"
     ]
    }
   ],
   "source": [
    "train_df, temp_df = train_test_split(df_metadata, test_size = 0.2, stratify = df_metadata['sign'], random_state = 99)\n",
    "val_df, test_df = train_test_split(temp_df, test_size = 0.5, stratify = temp_df['sign'], random_state = 99)\n",
    "\n",
    "print(f'train: {len(train_df)} sequences')\n",
    "print(f'val:   {len(val_df)} sequences')\n",
    "print(f'test:  {len(test_df)} sequences')"
   ]
  },
  {
   "cell_type": "code",
   "execution_count": 4,
   "id": "b02cce03",
   "metadata": {},
   "outputs": [],
   "source": [
    "train_dataset = SignLanguageDataset(df_metadata = train_df, label_mapping = label_mapping_25)\n",
    "val_dataset = SignLanguageDataset(df_metadata = val_df, label_mapping = label_mapping_25)\n",
    "test_dataset = SignLanguageDataset(df_metadata = test_df, label_mapping = label_mapping_25)"
   ]
  },
  {
   "cell_type": "code",
   "execution_count": 5,
   "id": "32e9927c",
   "metadata": {},
   "outputs": [],
   "source": [
    "batch_size = 32\n",
    "train_dataloader = DataLoader(train_dataset, batch_size = batch_size, shuffle = True)\n",
    "val_dataloader = DataLoader(val_dataset, batch_size = batch_size, shuffle = True)\n",
    "test_dataloader = DataLoader(test_dataset, batch_size = batch_size, shuffle = False)"
   ]
  },
  {
   "cell_type": "markdown",
   "id": "1d64af60",
   "metadata": {},
   "source": [
    "## **Basic Model**"
   ]
  },
  {
   "cell_type": "code",
   "execution_count": 6,
   "id": "25244748",
   "metadata": {},
   "outputs": [
    {
     "name": "stdout",
     "output_type": "stream",
     "text": [
      "\n",
      "Epoch 1/80\n",
      "------------------------------\n"
     ]
    },
    {
     "name": "stderr",
     "output_type": "stream",
     "text": [
      "                                                                                    \r"
     ]
    },
    {
     "name": "stdout",
     "output_type": "stream",
     "text": [
      "Train Loss: 3.0383 | Train Acc: 0.0826\n",
      "Val Loss:   2.8147 | Val Acc:   0.1184\n",
      "Learning rate: 0.001000\n",
      "New best model: Val Loss: 2.8147 Val Acc: 0.1184)\n",
      "\n",
      "Epoch 2/80\n",
      "------------------------------\n"
     ]
    },
    {
     "name": "stderr",
     "output_type": "stream",
     "text": [
      "                                                                                    \r"
     ]
    },
    {
     "name": "stdout",
     "output_type": "stream",
     "text": [
      "Train Loss: 2.7655 | Train Acc: 0.1321\n",
      "Val Loss:   2.6196 | Val Acc:   0.1731\n",
      "Learning rate: 0.001000\n",
      "New best model: Val Loss: 2.6196 Val Acc: 0.1731)\n",
      "\n",
      "Epoch 3/80\n",
      "------------------------------\n"
     ]
    },
    {
     "name": "stderr",
     "output_type": "stream",
     "text": [
      "                                                                                    \r"
     ]
    },
    {
     "name": "stdout",
     "output_type": "stream",
     "text": [
      "Train Loss: 2.5540 | Train Acc: 0.1927\n",
      "Val Loss:   2.4013 | Val Acc:   0.2398\n",
      "Learning rate: 0.001000\n",
      "New best model: Val Loss: 2.4013 Val Acc: 0.2398)\n",
      "\n",
      "Epoch 4/80\n",
      "------------------------------\n"
     ]
    },
    {
     "name": "stderr",
     "output_type": "stream",
     "text": [
      "                                                                                    \r"
     ]
    },
    {
     "name": "stdout",
     "output_type": "stream",
     "text": [
      "Train Loss: 2.3853 | Train Acc: 0.2488\n",
      "Val Loss:   2.2388 | Val Acc:   0.3045\n",
      "Learning rate: 0.001000\n",
      "New best model: Val Loss: 2.2388 Val Acc: 0.3045)\n",
      "\n",
      "Epoch 5/80\n",
      "------------------------------\n"
     ]
    },
    {
     "name": "stderr",
     "output_type": "stream",
     "text": [
      "                                                                                    \r"
     ]
    },
    {
     "name": "stdout",
     "output_type": "stream",
     "text": [
      "Train Loss: 2.2585 | Train Acc: 0.2910\n",
      "Val Loss:   2.0725 | Val Acc:   0.3622\n",
      "Learning rate: 0.001000\n",
      "New best model: Val Loss: 2.0725 Val Acc: 0.3622)\n",
      "\n",
      "Epoch 6/80\n",
      "------------------------------\n"
     ]
    },
    {
     "name": "stderr",
     "output_type": "stream",
     "text": [
      "                                                                                    \r"
     ]
    },
    {
     "name": "stdout",
     "output_type": "stream",
     "text": [
      "Train Loss: 2.1434 | Train Acc: 0.3236\n",
      "Val Loss:   2.0070 | Val Acc:   0.3761\n",
      "Learning rate: 0.001000\n",
      "New best model: Val Loss: 2.0070 Val Acc: 0.3761)\n",
      "\n",
      "Epoch 7/80\n",
      "------------------------------\n"
     ]
    },
    {
     "name": "stderr",
     "output_type": "stream",
     "text": [
      "                                                                                    \r"
     ]
    },
    {
     "name": "stdout",
     "output_type": "stream",
     "text": [
      "Train Loss: 2.0470 | Train Acc: 0.3578\n",
      "Val Loss:   1.9177 | Val Acc:   0.4159\n",
      "Learning rate: 0.001000\n",
      "New best model: Val Loss: 1.9177 Val Acc: 0.4159)\n",
      "\n",
      "Epoch 8/80\n",
      "------------------------------\n"
     ]
    },
    {
     "name": "stderr",
     "output_type": "stream",
     "text": [
      "                                                                                    \r"
     ]
    },
    {
     "name": "stdout",
     "output_type": "stream",
     "text": [
      "Train Loss: 1.9454 | Train Acc: 0.3894\n",
      "Val Loss:   1.8324 | Val Acc:   0.4408\n",
      "Learning rate: 0.001000\n",
      "New best model: Val Loss: 1.8324 Val Acc: 0.4408)\n",
      "\n",
      "Epoch 9/80\n",
      "------------------------------\n"
     ]
    },
    {
     "name": "stderr",
     "output_type": "stream",
     "text": [
      "                                                                                    \r"
     ]
    },
    {
     "name": "stdout",
     "output_type": "stream",
     "text": [
      "Train Loss: 1.8629 | Train Acc: 0.4108\n",
      "Val Loss:   1.7476 | Val Acc:   0.4647\n",
      "Learning rate: 0.001000\n",
      "New best model: Val Loss: 1.7476 Val Acc: 0.4647)\n",
      "\n",
      "Epoch 10/80\n",
      "------------------------------\n"
     ]
    },
    {
     "name": "stderr",
     "output_type": "stream",
     "text": [
      "                                                                                    \r"
     ]
    },
    {
     "name": "stdout",
     "output_type": "stream",
     "text": [
      "Train Loss: 1.7968 | Train Acc: 0.4313\n",
      "Val Loss:   1.6776 | Val Acc:   0.4886\n",
      "Learning rate: 0.001000\n",
      "New best model: Val Loss: 1.6776 Val Acc: 0.4886)\n",
      "\n",
      "Epoch 11/80\n",
      "------------------------------\n"
     ]
    },
    {
     "name": "stderr",
     "output_type": "stream",
     "text": [
      "                                                                                    \r"
     ]
    },
    {
     "name": "stdout",
     "output_type": "stream",
     "text": [
      "Train Loss: 1.7199 | Train Acc: 0.4542\n",
      "Val Loss:   1.5568 | Val Acc:   0.5363\n",
      "Learning rate: 0.001000\n",
      "New best model: Val Loss: 1.5568 Val Acc: 0.5363)\n",
      "\n",
      "Epoch 12/80\n",
      "------------------------------\n"
     ]
    },
    {
     "name": "stderr",
     "output_type": "stream",
     "text": [
      "                                                                                    \r"
     ]
    },
    {
     "name": "stdout",
     "output_type": "stream",
     "text": [
      "Train Loss: 1.6447 | Train Acc: 0.4838\n",
      "Val Loss:   1.5427 | Val Acc:   0.5224\n",
      "Learning rate: 0.001000\n",
      "New best model: Val Loss: 1.5427 Val Acc: 0.5224)\n",
      "\n",
      "Epoch 13/80\n",
      "------------------------------\n"
     ]
    },
    {
     "name": "stderr",
     "output_type": "stream",
     "text": [
      "                                                                                    \r"
     ]
    },
    {
     "name": "stdout",
     "output_type": "stream",
     "text": [
      "Train Loss: 1.5792 | Train Acc: 0.5010\n",
      "Val Loss:   1.4722 | Val Acc:   0.5463\n",
      "Learning rate: 0.001000\n",
      "New best model: Val Loss: 1.4722 Val Acc: 0.5463)\n",
      "\n",
      "Epoch 14/80\n",
      "------------------------------\n"
     ]
    },
    {
     "name": "stderr",
     "output_type": "stream",
     "text": [
      "                                                                                    \r"
     ]
    },
    {
     "name": "stdout",
     "output_type": "stream",
     "text": [
      "Train Loss: 1.5358 | Train Acc: 0.5137\n",
      "Val Loss:   1.4787 | Val Acc:   0.5463\n",
      "Learning rate: 0.001000\n",
      "No improvement for 1 epoches\n",
      "\n",
      "Epoch 15/80\n",
      "------------------------------\n"
     ]
    },
    {
     "name": "stderr",
     "output_type": "stream",
     "text": [
      "                                                                                    \r"
     ]
    },
    {
     "name": "stdout",
     "output_type": "stream",
     "text": [
      "Train Loss: 1.4828 | Train Acc: 0.5311\n",
      "Val Loss:   1.4022 | Val Acc:   0.5552\n",
      "Learning rate: 0.001000\n",
      "New best model: Val Loss: 1.4022 Val Acc: 0.5552)\n",
      "\n",
      "Epoch 16/80\n",
      "------------------------------\n"
     ]
    },
    {
     "name": "stderr",
     "output_type": "stream",
     "text": [
      "                                                                                    \r"
     ]
    },
    {
     "name": "stdout",
     "output_type": "stream",
     "text": [
      "Train Loss: 1.4333 | Train Acc: 0.5470\n",
      "Val Loss:   1.3034 | Val Acc:   0.6109\n",
      "Learning rate: 0.001000\n",
      "New best model: Val Loss: 1.3034 Val Acc: 0.6109)\n",
      "\n",
      "Epoch 17/80\n",
      "------------------------------\n"
     ]
    },
    {
     "name": "stderr",
     "output_type": "stream",
     "text": [
      "                                                                                    \r"
     ]
    },
    {
     "name": "stdout",
     "output_type": "stream",
     "text": [
      "Train Loss: 1.3988 | Train Acc: 0.5547\n",
      "Val Loss:   1.3047 | Val Acc:   0.5821\n",
      "Learning rate: 0.001000\n",
      "No improvement for 1 epoches\n",
      "\n",
      "Epoch 18/80\n",
      "------------------------------\n"
     ]
    },
    {
     "name": "stderr",
     "output_type": "stream",
     "text": [
      "                                                                                    \r"
     ]
    },
    {
     "name": "stdout",
     "output_type": "stream",
     "text": [
      "Train Loss: 1.3550 | Train Acc: 0.5654\n",
      "Val Loss:   1.2465 | Val Acc:   0.6050\n",
      "Learning rate: 0.001000\n",
      "New best model: Val Loss: 1.2465 Val Acc: 0.6050)\n",
      "\n",
      "Epoch 19/80\n",
      "------------------------------\n"
     ]
    },
    {
     "name": "stderr",
     "output_type": "stream",
     "text": [
      "                                                                                    \r"
     ]
    },
    {
     "name": "stdout",
     "output_type": "stream",
     "text": [
      "Train Loss: 1.3231 | Train Acc: 0.5756\n",
      "Val Loss:   1.2417 | Val Acc:   0.6308\n",
      "Learning rate: 0.001000\n",
      "New best model: Val Loss: 1.2417 Val Acc: 0.6308)\n",
      "\n",
      "Epoch 20/80\n",
      "------------------------------\n"
     ]
    },
    {
     "name": "stderr",
     "output_type": "stream",
     "text": [
      "                                                                                    \r"
     ]
    },
    {
     "name": "stdout",
     "output_type": "stream",
     "text": [
      "Train Loss: 1.2970 | Train Acc: 0.5853\n",
      "Val Loss:   1.2485 | Val Acc:   0.6159\n",
      "Learning rate: 0.001000\n",
      "No improvement for 1 epoches\n",
      "\n",
      "Epoch 21/80\n",
      "------------------------------\n"
     ]
    },
    {
     "name": "stderr",
     "output_type": "stream",
     "text": [
      "                                                                                    \r"
     ]
    },
    {
     "name": "stdout",
     "output_type": "stream",
     "text": [
      "Train Loss: 1.2720 | Train Acc: 0.5953\n",
      "Val Loss:   1.2050 | Val Acc:   0.6358\n",
      "Learning rate: 0.001000\n",
      "New best model: Val Loss: 1.2050 Val Acc: 0.6358)\n",
      "\n",
      "Epoch 22/80\n",
      "------------------------------\n"
     ]
    },
    {
     "name": "stderr",
     "output_type": "stream",
     "text": [
      "                                                                                    \r"
     ]
    },
    {
     "name": "stdout",
     "output_type": "stream",
     "text": [
      "Train Loss: 1.2418 | Train Acc: 0.5980\n",
      "Val Loss:   1.1700 | Val Acc:   0.6438\n",
      "Learning rate: 0.001000\n",
      "New best model: Val Loss: 1.1700 Val Acc: 0.6438)\n",
      "\n",
      "Epoch 23/80\n",
      "------------------------------\n"
     ]
    },
    {
     "name": "stderr",
     "output_type": "stream",
     "text": [
      "                                                                                    \r"
     ]
    },
    {
     "name": "stdout",
     "output_type": "stream",
     "text": [
      "Train Loss: 1.2088 | Train Acc: 0.6107\n",
      "Val Loss:   1.1812 | Val Acc:   0.6328\n",
      "Learning rate: 0.001000\n",
      "No improvement for 1 epoches\n",
      "\n",
      "Epoch 24/80\n",
      "------------------------------\n"
     ]
    },
    {
     "name": "stderr",
     "output_type": "stream",
     "text": [
      "                                                                                    \r"
     ]
    },
    {
     "name": "stdout",
     "output_type": "stream",
     "text": [
      "Train Loss: 1.1851 | Train Acc: 0.6147\n",
      "Val Loss:   1.1469 | Val Acc:   0.6537\n",
      "Learning rate: 0.001000\n",
      "New best model: Val Loss: 1.1469 Val Acc: 0.6537)\n",
      "\n",
      "Epoch 25/80\n",
      "------------------------------\n"
     ]
    },
    {
     "name": "stderr",
     "output_type": "stream",
     "text": [
      "                                                                                    \r"
     ]
    },
    {
     "name": "stdout",
     "output_type": "stream",
     "text": [
      "Train Loss: 1.1679 | Train Acc: 0.6246\n",
      "Val Loss:   1.1391 | Val Acc:   0.6567\n",
      "Learning rate: 0.001000\n",
      "New best model: Val Loss: 1.1391 Val Acc: 0.6567)\n",
      "\n",
      "Epoch 26/80\n",
      "------------------------------\n"
     ]
    },
    {
     "name": "stderr",
     "output_type": "stream",
     "text": [
      "                                                                                    \r"
     ]
    },
    {
     "name": "stdout",
     "output_type": "stream",
     "text": [
      "Train Loss: 1.1551 | Train Acc: 0.6238\n",
      "Val Loss:   1.1054 | Val Acc:   0.6746\n",
      "Learning rate: 0.001000\n",
      "New best model: Val Loss: 1.1054 Val Acc: 0.6746)\n",
      "\n",
      "Epoch 27/80\n",
      "------------------------------\n"
     ]
    },
    {
     "name": "stderr",
     "output_type": "stream",
     "text": [
      "                                                                                    \r"
     ]
    },
    {
     "name": "stdout",
     "output_type": "stream",
     "text": [
      "Train Loss: 1.1280 | Train Acc: 0.6323\n",
      "Val Loss:   1.1109 | Val Acc:   0.6537\n",
      "Learning rate: 0.001000\n",
      "No improvement for 1 epoches\n",
      "\n",
      "Epoch 28/80\n",
      "------------------------------\n"
     ]
    },
    {
     "name": "stderr",
     "output_type": "stream",
     "text": [
      "                                                                                    \r"
     ]
    },
    {
     "name": "stdout",
     "output_type": "stream",
     "text": [
      "Train Loss: 1.1186 | Train Acc: 0.6414\n",
      "Val Loss:   1.0759 | Val Acc:   0.6687\n",
      "Learning rate: 0.001000\n",
      "New best model: Val Loss: 1.0759 Val Acc: 0.6687)\n",
      "\n",
      "Epoch 29/80\n",
      "------------------------------\n"
     ]
    },
    {
     "name": "stderr",
     "output_type": "stream",
     "text": [
      "                                                                                    \r"
     ]
    },
    {
     "name": "stdout",
     "output_type": "stream",
     "text": [
      "Train Loss: 1.0908 | Train Acc: 0.6449\n",
      "Val Loss:   1.0999 | Val Acc:   0.6597\n",
      "Learning rate: 0.001000\n",
      "No improvement for 1 epoches\n",
      "\n",
      "Epoch 30/80\n",
      "------------------------------\n"
     ]
    },
    {
     "name": "stderr",
     "output_type": "stream",
     "text": [
      "                                                                                    \r"
     ]
    },
    {
     "name": "stdout",
     "output_type": "stream",
     "text": [
      "Train Loss: 1.0739 | Train Acc: 0.6517\n",
      "Val Loss:   1.0777 | Val Acc:   0.6826\n",
      "Learning rate: 0.001000\n",
      "No improvement for 2 epoches\n",
      "\n",
      "Epoch 31/80\n",
      "------------------------------\n"
     ]
    },
    {
     "name": "stderr",
     "output_type": "stream",
     "text": [
      "                                                                                    \r"
     ]
    },
    {
     "name": "stdout",
     "output_type": "stream",
     "text": [
      "Train Loss: 1.0535 | Train Acc: 0.6531\n",
      "Val Loss:   1.0701 | Val Acc:   0.6716\n",
      "Learning rate: 0.001000\n",
      "New best model: Val Loss: 1.0701 Val Acc: 0.6716)\n",
      "\n",
      "Epoch 32/80\n",
      "------------------------------\n"
     ]
    },
    {
     "name": "stderr",
     "output_type": "stream",
     "text": [
      "                                                                                    \r"
     ]
    },
    {
     "name": "stdout",
     "output_type": "stream",
     "text": [
      "Train Loss: 1.0483 | Train Acc: 0.6607\n",
      "Val Loss:   1.0267 | Val Acc:   0.6806\n",
      "Learning rate: 0.001000\n",
      "New best model: Val Loss: 1.0267 Val Acc: 0.6806)\n",
      "\n",
      "Epoch 33/80\n",
      "------------------------------\n"
     ]
    },
    {
     "name": "stderr",
     "output_type": "stream",
     "text": [
      "                                                                                    \r"
     ]
    },
    {
     "name": "stdout",
     "output_type": "stream",
     "text": [
      "Train Loss: 1.0295 | Train Acc: 0.6649\n",
      "Val Loss:   1.0714 | Val Acc:   0.6806\n",
      "Learning rate: 0.001000\n",
      "No improvement for 1 epoches\n",
      "\n",
      "Epoch 34/80\n",
      "------------------------------\n"
     ]
    },
    {
     "name": "stderr",
     "output_type": "stream",
     "text": [
      "                                                                                    \r"
     ]
    },
    {
     "name": "stdout",
     "output_type": "stream",
     "text": [
      "Train Loss: 1.0296 | Train Acc: 0.6673\n",
      "Val Loss:   1.0390 | Val Acc:   0.6846\n",
      "Learning rate: 0.001000\n",
      "No improvement for 2 epoches\n",
      "\n",
      "Epoch 35/80\n",
      "------------------------------\n"
     ]
    },
    {
     "name": "stderr",
     "output_type": "stream",
     "text": [
      "                                                                                    \r"
     ]
    },
    {
     "name": "stdout",
     "output_type": "stream",
     "text": [
      "Train Loss: 1.0061 | Train Acc: 0.6733\n",
      "Val Loss:   1.0614 | Val Acc:   0.6846\n",
      "Learning rate: 0.001000\n",
      "No improvement for 3 epoches\n",
      "\n",
      "Epoch 36/80\n",
      "------------------------------\n"
     ]
    },
    {
     "name": "stderr",
     "output_type": "stream",
     "text": [
      "                                                                                    \r"
     ]
    },
    {
     "name": "stdout",
     "output_type": "stream",
     "text": [
      "Train Loss: 1.0031 | Train Acc: 0.6713\n",
      "Val Loss:   1.0462 | Val Acc:   0.6836\n",
      "Learning rate: 0.000500\n",
      "No improvement for 4 epoches\n",
      "\n",
      "Epoch 37/80\n",
      "------------------------------\n"
     ]
    },
    {
     "name": "stderr",
     "output_type": "stream",
     "text": [
      "                                                                                    \r"
     ]
    },
    {
     "name": "stdout",
     "output_type": "stream",
     "text": [
      "Train Loss: 0.9129 | Train Acc: 0.7039\n",
      "Val Loss:   0.9952 | Val Acc:   0.7035\n",
      "Learning rate: 0.000500\n",
      "New best model: Val Loss: 0.9952 Val Acc: 0.7035)\n",
      "\n",
      "Epoch 38/80\n",
      "------------------------------\n"
     ]
    },
    {
     "name": "stderr",
     "output_type": "stream",
     "text": [
      "                                                                                    \r"
     ]
    },
    {
     "name": "stdout",
     "output_type": "stream",
     "text": [
      "Train Loss: 0.8790 | Train Acc: 0.7103\n",
      "Val Loss:   0.9768 | Val Acc:   0.6995\n",
      "Learning rate: 0.000500\n",
      "New best model: Val Loss: 0.9768 Val Acc: 0.6995)\n",
      "\n",
      "Epoch 39/80\n",
      "------------------------------\n"
     ]
    },
    {
     "name": "stderr",
     "output_type": "stream",
     "text": [
      "                                                                                    \r"
     ]
    },
    {
     "name": "stdout",
     "output_type": "stream",
     "text": [
      "Train Loss: 0.8642 | Train Acc: 0.7102\n",
      "Val Loss:   0.9788 | Val Acc:   0.7005\n",
      "Learning rate: 0.000500\n",
      "No improvement for 1 epoches\n",
      "\n",
      "Epoch 40/80\n",
      "------------------------------\n"
     ]
    },
    {
     "name": "stderr",
     "output_type": "stream",
     "text": [
      "                                                                                    \r"
     ]
    },
    {
     "name": "stdout",
     "output_type": "stream",
     "text": [
      "Train Loss: 0.8566 | Train Acc: 0.7131\n",
      "Val Loss:   0.9481 | Val Acc:   0.7055\n",
      "Learning rate: 0.000500\n",
      "New best model: Val Loss: 0.9481 Val Acc: 0.7055)\n",
      "\n",
      "Epoch 41/80\n",
      "------------------------------\n"
     ]
    },
    {
     "name": "stderr",
     "output_type": "stream",
     "text": [
      "                                                                                    \r"
     ]
    },
    {
     "name": "stdout",
     "output_type": "stream",
     "text": [
      "Train Loss: 0.8700 | Train Acc: 0.7146\n",
      "Val Loss:   0.9855 | Val Acc:   0.7104\n",
      "Learning rate: 0.000500\n",
      "No improvement for 1 epoches\n",
      "\n",
      "Epoch 42/80\n",
      "------------------------------\n"
     ]
    },
    {
     "name": "stderr",
     "output_type": "stream",
     "text": [
      "                                                                                    \r"
     ]
    },
    {
     "name": "stdout",
     "output_type": "stream",
     "text": [
      "Train Loss: 0.8556 | Train Acc: 0.7177\n",
      "Val Loss:   0.9506 | Val Acc:   0.7134\n",
      "Learning rate: 0.000500\n",
      "No improvement for 2 epoches\n",
      "\n",
      "Epoch 43/80\n",
      "------------------------------\n"
     ]
    },
    {
     "name": "stderr",
     "output_type": "stream",
     "text": [
      "                                                                                    \r"
     ]
    },
    {
     "name": "stdout",
     "output_type": "stream",
     "text": [
      "Train Loss: 0.8364 | Train Acc: 0.7252\n",
      "Val Loss:   0.9602 | Val Acc:   0.7174\n",
      "Learning rate: 0.000500\n",
      "No improvement for 3 epoches\n",
      "\n",
      "Epoch 44/80\n",
      "------------------------------\n"
     ]
    },
    {
     "name": "stderr",
     "output_type": "stream",
     "text": [
      "                                                                                    \r"
     ]
    },
    {
     "name": "stdout",
     "output_type": "stream",
     "text": [
      "Train Loss: 0.8472 | Train Acc: 0.7189\n",
      "Val Loss:   0.9648 | Val Acc:   0.7055\n",
      "Learning rate: 0.000250\n",
      "No improvement for 4 epoches\n",
      "\n",
      "Epoch 45/80\n",
      "------------------------------\n"
     ]
    },
    {
     "name": "stderr",
     "output_type": "stream",
     "text": [
      "                                                                                    \r"
     ]
    },
    {
     "name": "stdout",
     "output_type": "stream",
     "text": [
      "Train Loss: 0.7984 | Train Acc: 0.7374\n",
      "Val Loss:   0.9223 | Val Acc:   0.7323\n",
      "Learning rate: 0.000250\n",
      "New best model: Val Loss: 0.9223 Val Acc: 0.7323)\n",
      "\n",
      "Epoch 46/80\n",
      "------------------------------\n"
     ]
    },
    {
     "name": "stderr",
     "output_type": "stream",
     "text": [
      "                                                                                    \r"
     ]
    },
    {
     "name": "stdout",
     "output_type": "stream",
     "text": [
      "Train Loss: 0.7684 | Train Acc: 0.7448\n",
      "Val Loss:   0.9219 | Val Acc:   0.7284\n",
      "Learning rate: 0.000250\n",
      "New best model: Val Loss: 0.9219 Val Acc: 0.7284)\n",
      "\n",
      "Epoch 47/80\n",
      "------------------------------\n"
     ]
    },
    {
     "name": "stderr",
     "output_type": "stream",
     "text": [
      "                                                                                    \r"
     ]
    },
    {
     "name": "stdout",
     "output_type": "stream",
     "text": [
      "Train Loss: 0.7648 | Train Acc: 0.7455\n",
      "Val Loss:   0.9205 | Val Acc:   0.7234\n",
      "Learning rate: 0.000250\n",
      "New best model: Val Loss: 0.9205 Val Acc: 0.7234)\n",
      "\n",
      "Epoch 48/80\n",
      "------------------------------\n"
     ]
    },
    {
     "name": "stderr",
     "output_type": "stream",
     "text": [
      "                                                                                    \r"
     ]
    },
    {
     "name": "stdout",
     "output_type": "stream",
     "text": [
      "Train Loss: 0.7672 | Train Acc: 0.7440\n",
      "Val Loss:   0.9375 | Val Acc:   0.7134\n",
      "Learning rate: 0.000250\n",
      "No improvement for 1 epoches\n",
      "\n",
      "Epoch 49/80\n",
      "------------------------------\n"
     ]
    },
    {
     "name": "stderr",
     "output_type": "stream",
     "text": [
      "                                                                                    \r"
     ]
    },
    {
     "name": "stdout",
     "output_type": "stream",
     "text": [
      "Train Loss: 0.7540 | Train Acc: 0.7428\n",
      "Val Loss:   0.9155 | Val Acc:   0.7254\n",
      "Learning rate: 0.000250\n",
      "New best model: Val Loss: 0.9155 Val Acc: 0.7254)\n",
      "\n",
      "Epoch 50/80\n",
      "------------------------------\n"
     ]
    },
    {
     "name": "stderr",
     "output_type": "stream",
     "text": [
      "                                                                                    \r"
     ]
    },
    {
     "name": "stdout",
     "output_type": "stream",
     "text": [
      "Train Loss: 0.7518 | Train Acc: 0.7474\n",
      "Val Loss:   0.9404 | Val Acc:   0.7204\n",
      "Learning rate: 0.000250\n",
      "No improvement for 1 epoches\n",
      "\n",
      "Epoch 51/80\n",
      "------------------------------\n"
     ]
    },
    {
     "name": "stderr",
     "output_type": "stream",
     "text": [
      "                                                                                    \r"
     ]
    },
    {
     "name": "stdout",
     "output_type": "stream",
     "text": [
      "Train Loss: 0.7585 | Train Acc: 0.7478\n",
      "Val Loss:   0.9125 | Val Acc:   0.7264\n",
      "Learning rate: 0.000250\n",
      "New best model: Val Loss: 0.9125 Val Acc: 0.7264)\n",
      "\n",
      "Epoch 52/80\n",
      "------------------------------\n"
     ]
    },
    {
     "name": "stderr",
     "output_type": "stream",
     "text": [
      "                                                                                    \r"
     ]
    },
    {
     "name": "stdout",
     "output_type": "stream",
     "text": [
      "Train Loss: 0.7485 | Train Acc: 0.7489\n",
      "Val Loss:   0.9123 | Val Acc:   0.7184\n",
      "Learning rate: 0.000250\n",
      "New best model: Val Loss: 0.9123 Val Acc: 0.7184)\n",
      "\n",
      "Epoch 53/80\n",
      "------------------------------\n"
     ]
    },
    {
     "name": "stderr",
     "output_type": "stream",
     "text": [
      "                                                                                    \r"
     ]
    },
    {
     "name": "stdout",
     "output_type": "stream",
     "text": [
      "Train Loss: 0.7476 | Train Acc: 0.7517\n",
      "Val Loss:   0.9067 | Val Acc:   0.7244\n",
      "Learning rate: 0.000250\n",
      "New best model: Val Loss: 0.9067 Val Acc: 0.7244)\n",
      "\n",
      "Epoch 54/80\n",
      "------------------------------\n"
     ]
    },
    {
     "name": "stderr",
     "output_type": "stream",
     "text": [
      "                                                                                    \r"
     ]
    },
    {
     "name": "stdout",
     "output_type": "stream",
     "text": [
      "Train Loss: 0.7367 | Train Acc: 0.7558\n",
      "Val Loss:   0.9058 | Val Acc:   0.7264\n",
      "Learning rate: 0.000250\n",
      "New best model: Val Loss: 0.9058 Val Acc: 0.7264)\n",
      "\n",
      "Epoch 55/80\n",
      "------------------------------\n"
     ]
    },
    {
     "name": "stderr",
     "output_type": "stream",
     "text": [
      "                                                                                    \r"
     ]
    },
    {
     "name": "stdout",
     "output_type": "stream",
     "text": [
      "Train Loss: 0.7199 | Train Acc: 0.7611\n",
      "Val Loss:   0.9232 | Val Acc:   0.7214\n",
      "Learning rate: 0.000250\n",
      "No improvement for 1 epoches\n",
      "\n",
      "Epoch 56/80\n",
      "------------------------------\n"
     ]
    },
    {
     "name": "stderr",
     "output_type": "stream",
     "text": [
      "                                                                                    \r"
     ]
    },
    {
     "name": "stdout",
     "output_type": "stream",
     "text": [
      "Train Loss: 0.7412 | Train Acc: 0.7500\n",
      "Val Loss:   0.9163 | Val Acc:   0.7254\n",
      "Learning rate: 0.000250\n",
      "No improvement for 2 epoches\n",
      "\n",
      "Epoch 57/80\n",
      "------------------------------\n"
     ]
    },
    {
     "name": "stderr",
     "output_type": "stream",
     "text": [
      "                                                                                    \r"
     ]
    },
    {
     "name": "stdout",
     "output_type": "stream",
     "text": [
      "Train Loss: 0.7146 | Train Acc: 0.7600\n",
      "Val Loss:   0.9129 | Val Acc:   0.7294\n",
      "Learning rate: 0.000250\n",
      "No improvement for 3 epoches\n",
      "\n",
      "Epoch 58/80\n",
      "------------------------------\n"
     ]
    },
    {
     "name": "stderr",
     "output_type": "stream",
     "text": [
      "                                                                                    \r"
     ]
    },
    {
     "name": "stdout",
     "output_type": "stream",
     "text": [
      "Train Loss: 0.7227 | Train Acc: 0.7557\n",
      "Val Loss:   0.9221 | Val Acc:   0.7264\n",
      "Learning rate: 0.000125\n",
      "No improvement for 4 epoches\n",
      "\n",
      "Epoch 59/80\n",
      "------------------------------\n"
     ]
    },
    {
     "name": "stderr",
     "output_type": "stream",
     "text": [
      "                                                                                    \r"
     ]
    },
    {
     "name": "stdout",
     "output_type": "stream",
     "text": [
      "Train Loss: 0.6914 | Train Acc: 0.7724\n",
      "Val Loss:   0.8993 | Val Acc:   0.7303\n",
      "Learning rate: 0.000125\n",
      "New best model: Val Loss: 0.8993 Val Acc: 0.7303)\n",
      "\n",
      "Epoch 60/80\n",
      "------------------------------\n"
     ]
    },
    {
     "name": "stderr",
     "output_type": "stream",
     "text": [
      "                                                                                    \r"
     ]
    },
    {
     "name": "stdout",
     "output_type": "stream",
     "text": [
      "Train Loss: 0.7007 | Train Acc: 0.7675\n",
      "Val Loss:   0.9077 | Val Acc:   0.7284\n",
      "Learning rate: 0.000125\n",
      "No improvement for 1 epoches\n",
      "\n",
      "Epoch 61/80\n",
      "------------------------------\n"
     ]
    },
    {
     "name": "stderr",
     "output_type": "stream",
     "text": [
      "                                                                                    \r"
     ]
    },
    {
     "name": "stdout",
     "output_type": "stream",
     "text": [
      "Train Loss: 0.6735 | Train Acc: 0.7724\n",
      "Val Loss:   0.9082 | Val Acc:   0.7244\n",
      "Learning rate: 0.000125\n",
      "No improvement for 2 epoches\n",
      "\n",
      "Epoch 62/80\n",
      "------------------------------\n"
     ]
    },
    {
     "name": "stderr",
     "output_type": "stream",
     "text": [
      "                                                                                    \r"
     ]
    },
    {
     "name": "stdout",
     "output_type": "stream",
     "text": [
      "Train Loss: 0.6891 | Train Acc: 0.7692\n",
      "Val Loss:   0.9128 | Val Acc:   0.7224\n",
      "Learning rate: 0.000125\n",
      "No improvement for 3 epoches\n",
      "\n",
      "Epoch 63/80\n",
      "------------------------------\n"
     ]
    },
    {
     "name": "stderr",
     "output_type": "stream",
     "text": [
      "                                                                                    \r"
     ]
    },
    {
     "name": "stdout",
     "output_type": "stream",
     "text": [
      "Train Loss: 0.6795 | Train Acc: 0.7754\n",
      "Val Loss:   0.9016 | Val Acc:   0.7294\n",
      "Learning rate: 0.000063\n",
      "No improvement for 4 epoches\n",
      "\n",
      "Epoch 64/80\n",
      "------------------------------\n"
     ]
    },
    {
     "name": "stderr",
     "output_type": "stream",
     "text": [
      "                                                                                    \r"
     ]
    },
    {
     "name": "stdout",
     "output_type": "stream",
     "text": [
      "Train Loss: 0.6749 | Train Acc: 0.7729\n",
      "Val Loss:   0.9054 | Val Acc:   0.7264\n",
      "Learning rate: 0.000063\n",
      "No improvement for 5 epoches\n",
      "\n",
      "Epoch 65/80\n",
      "------------------------------\n"
     ]
    },
    {
     "name": "stderr",
     "output_type": "stream",
     "text": [
      "                                                                                    \r"
     ]
    },
    {
     "name": "stdout",
     "output_type": "stream",
     "text": [
      "Train Loss: 0.6660 | Train Acc: 0.7764\n",
      "Val Loss:   0.9018 | Val Acc:   0.7274\n",
      "Learning rate: 0.000063\n",
      "No improvement for 6 epoches\n",
      "\n",
      "Epoch 66/80\n",
      "------------------------------\n"
     ]
    },
    {
     "name": "stderr",
     "output_type": "stream",
     "text": [
      "                                                                                    \r"
     ]
    },
    {
     "name": "stdout",
     "output_type": "stream",
     "text": [
      "Train Loss: 0.6729 | Train Acc: 0.7757\n",
      "Val Loss:   0.8961 | Val Acc:   0.7323\n",
      "Learning rate: 0.000063\n",
      "New best model: Val Loss: 0.8961 Val Acc: 0.7323)\n",
      "\n",
      "Epoch 67/80\n",
      "------------------------------\n"
     ]
    },
    {
     "name": "stderr",
     "output_type": "stream",
     "text": [
      "                                                                                    \r"
     ]
    },
    {
     "name": "stdout",
     "output_type": "stream",
     "text": [
      "Train Loss: 0.6623 | Train Acc: 0.7792\n",
      "Val Loss:   0.9026 | Val Acc:   0.7274\n",
      "Learning rate: 0.000063\n",
      "No improvement for 1 epoches\n",
      "\n",
      "Epoch 68/80\n",
      "------------------------------\n"
     ]
    },
    {
     "name": "stderr",
     "output_type": "stream",
     "text": [
      "                                                                                    \r"
     ]
    },
    {
     "name": "stdout",
     "output_type": "stream",
     "text": [
      "Train Loss: 0.6585 | Train Acc: 0.7765\n",
      "Val Loss:   0.9008 | Val Acc:   0.7363\n",
      "Learning rate: 0.000063\n",
      "No improvement for 2 epoches\n",
      "\n",
      "Epoch 69/80\n",
      "------------------------------\n"
     ]
    },
    {
     "name": "stderr",
     "output_type": "stream",
     "text": [
      "                                                                                    \r"
     ]
    },
    {
     "name": "stdout",
     "output_type": "stream",
     "text": [
      "Train Loss: 0.6615 | Train Acc: 0.7826\n",
      "Val Loss:   0.8969 | Val Acc:   0.7363\n",
      "Learning rate: 0.000063\n",
      "No improvement for 3 epoches\n",
      "\n",
      "Epoch 70/80\n",
      "------------------------------\n"
     ]
    },
    {
     "name": "stderr",
     "output_type": "stream",
     "text": [
      "                                                                                    \r"
     ]
    },
    {
     "name": "stdout",
     "output_type": "stream",
     "text": [
      "Train Loss: 0.6708 | Train Acc: 0.7769\n",
      "Val Loss:   0.9038 | Val Acc:   0.7353\n",
      "Learning rate: 0.000031\n",
      "No improvement for 4 epoches\n",
      "\n",
      "Epoch 71/80\n",
      "------------------------------\n"
     ]
    },
    {
     "name": "stderr",
     "output_type": "stream",
     "text": [
      "                                                                                    \r"
     ]
    },
    {
     "name": "stdout",
     "output_type": "stream",
     "text": [
      "Train Loss: 0.6557 | Train Acc: 0.7813\n",
      "Val Loss:   0.9035 | Val Acc:   0.7284\n",
      "Learning rate: 0.000031\n",
      "No improvement for 5 epoches\n",
      "\n",
      "Epoch 72/80\n",
      "------------------------------\n"
     ]
    },
    {
     "name": "stderr",
     "output_type": "stream",
     "text": [
      "                                                                                    \r"
     ]
    },
    {
     "name": "stdout",
     "output_type": "stream",
     "text": [
      "Train Loss: 0.6585 | Train Acc: 0.7801\n",
      "Val Loss:   0.9038 | Val Acc:   0.7254\n",
      "Learning rate: 0.000031\n",
      "No improvement for 6 epoches\n",
      "\n",
      "Epoch 73/80\n",
      "------------------------------\n"
     ]
    },
    {
     "name": "stderr",
     "output_type": "stream",
     "text": [
      "                                                                                    \r"
     ]
    },
    {
     "name": "stdout",
     "output_type": "stream",
     "text": [
      "Train Loss: 0.6440 | Train Acc: 0.7876\n",
      "Val Loss:   0.9037 | Val Acc:   0.7353\n",
      "Learning rate: 0.000031\n",
      "No improvement for 7 epoches\n",
      "\n",
      "Epoch 74/80\n",
      "------------------------------\n"
     ]
    },
    {
     "name": "stderr",
     "output_type": "stream",
     "text": [
      "                                                                                    \r"
     ]
    },
    {
     "name": "stdout",
     "output_type": "stream",
     "text": [
      "Train Loss: 0.6494 | Train Acc: 0.7837\n",
      "Val Loss:   0.8978 | Val Acc:   0.7313\n",
      "Learning rate: 0.000016\n",
      "No improvement for 8 epoches\n",
      "\n",
      "Epoch 75/80\n",
      "------------------------------\n"
     ]
    },
    {
     "name": "stderr",
     "output_type": "stream",
     "text": [
      "                                                                                    \r"
     ]
    },
    {
     "name": "stdout",
     "output_type": "stream",
     "text": [
      "Train Loss: 0.6605 | Train Acc: 0.7767\n",
      "Val Loss:   0.8966 | Val Acc:   0.7333\n",
      "Learning rate: 0.000016\n",
      "No improvement for 9 epoches\n",
      "\n",
      "Epoch 76/80\n",
      "------------------------------\n"
     ]
    },
    {
     "name": "stderr",
     "output_type": "stream",
     "text": [
      "                                                                                    "
     ]
    },
    {
     "name": "stdout",
     "output_type": "stream",
     "text": [
      "Train Loss: 0.6458 | Train Acc: 0.7830\n",
      "Val Loss:   0.8963 | Val Acc:   0.7313\n",
      "Learning rate: 0.000016\n",
      "No improvement for 10 epoches\n",
      "\n",
      "Early stopping at epoch 76\n",
      "\n",
      "Loaded best model from epoch 66\n",
      "\n",
      "Training complete\n",
      "Best Val Loss: 0.8961\n",
      "Best Val Acc: 0.7323\n"
     ]
    },
    {
     "name": "stderr",
     "output_type": "stream",
     "text": [
      "\r"
     ]
    }
   ],
   "source": [
    "model = SignLanguageCNN_pooling(num_classes = 25)\n",
    "device = torch.device(\"cuda\" if torch.cuda.is_available() else \"cpu\")\n",
    "\n",
    "train_loss, train_acc, val_loss, val_acc = train_model(\n",
    "    model, train_dataloader, val_dataloader, save_path = 'modeling/models/cnn.pt',epoches = 80, learning_rate = 0.001, lr_patience = 3)"
   ]
  },
  {
   "cell_type": "markdown",
   "id": "e7616f32",
   "metadata": {},
   "source": [
    "## **Challenger model**"
   ]
  },
  {
   "cell_type": "code",
   "execution_count": 7,
   "id": "409e922e",
   "metadata": {},
   "outputs": [
    {
     "name": "stdout",
     "output_type": "stream",
     "text": [
      "\n",
      "Epoch 1/50\n",
      "------------------------------\n"
     ]
    },
    {
     "name": "stderr",
     "output_type": "stream",
     "text": [
      "                                                                                    \r"
     ]
    },
    {
     "name": "stdout",
     "output_type": "stream",
     "text": [
      "Train Loss: 2.8032 | Train Acc: 0.1504\n",
      "Val Loss:   2.5624 | Val Acc:   0.2348\n",
      "Learning rate: 0.001000\n",
      "New best model: Val Loss: 2.5624 Val Acc: 0.2348)\n",
      "\n",
      "Epoch 2/50\n",
      "------------------------------\n"
     ]
    },
    {
     "name": "stderr",
     "output_type": "stream",
     "text": [
      "                                                                                    \r"
     ]
    },
    {
     "name": "stdout",
     "output_type": "stream",
     "text": [
      "Train Loss: 2.4001 | Train Acc: 0.2678\n",
      "Val Loss:   2.2926 | Val Acc:   0.2975\n",
      "Learning rate: 0.001000\n",
      "New best model: Val Loss: 2.2926 Val Acc: 0.2975)\n",
      "\n",
      "Epoch 3/50\n",
      "------------------------------\n"
     ]
    },
    {
     "name": "stderr",
     "output_type": "stream",
     "text": [
      "                                                                                    \r"
     ]
    },
    {
     "name": "stdout",
     "output_type": "stream",
     "text": [
      "Train Loss: 2.1531 | Train Acc: 0.3336\n",
      "Val Loss:   2.0271 | Val Acc:   0.3811\n",
      "Learning rate: 0.001000\n",
      "New best model: Val Loss: 2.0271 Val Acc: 0.3811)\n",
      "\n",
      "Epoch 4/50\n",
      "------------------------------\n"
     ]
    },
    {
     "name": "stderr",
     "output_type": "stream",
     "text": [
      "                                                                                    \r"
     ]
    },
    {
     "name": "stdout",
     "output_type": "stream",
     "text": [
      "Train Loss: 1.9640 | Train Acc: 0.3920\n",
      "Val Loss:   1.9003 | Val Acc:   0.4159\n",
      "Learning rate: 0.001000\n",
      "New best model: Val Loss: 1.9003 Val Acc: 0.4159)\n",
      "\n",
      "Epoch 5/50\n",
      "------------------------------\n"
     ]
    },
    {
     "name": "stderr",
     "output_type": "stream",
     "text": [
      "                                                                                    \r"
     ]
    },
    {
     "name": "stdout",
     "output_type": "stream",
     "text": [
      "Train Loss: 1.8362 | Train Acc: 0.4246\n",
      "Val Loss:   1.8071 | Val Acc:   0.4537\n",
      "Learning rate: 0.001000\n",
      "New best model: Val Loss: 1.8071 Val Acc: 0.4537)\n",
      "\n",
      "Epoch 6/50\n",
      "------------------------------\n"
     ]
    },
    {
     "name": "stderr",
     "output_type": "stream",
     "text": [
      "                                                                                    \r"
     ]
    },
    {
     "name": "stdout",
     "output_type": "stream",
     "text": [
      "Train Loss: 1.7145 | Train Acc: 0.4629\n",
      "Val Loss:   1.6743 | Val Acc:   0.4836\n",
      "Learning rate: 0.001000\n",
      "New best model: Val Loss: 1.6743 Val Acc: 0.4836)\n",
      "\n",
      "Epoch 7/50\n",
      "------------------------------\n"
     ]
    },
    {
     "name": "stderr",
     "output_type": "stream",
     "text": [
      "                                                                                    \r"
     ]
    },
    {
     "name": "stdout",
     "output_type": "stream",
     "text": [
      "Train Loss: 1.6170 | Train Acc: 0.4961\n",
      "Val Loss:   1.6143 | Val Acc:   0.5005\n",
      "Learning rate: 0.001000\n",
      "New best model: Val Loss: 1.6143 Val Acc: 0.5005)\n",
      "\n",
      "Epoch 8/50\n",
      "------------------------------\n"
     ]
    },
    {
     "name": "stderr",
     "output_type": "stream",
     "text": [
      "                                                                                    \r"
     ]
    },
    {
     "name": "stdout",
     "output_type": "stream",
     "text": [
      "Train Loss: 1.5367 | Train Acc: 0.5169\n",
      "Val Loss:   1.6329 | Val Acc:   0.5104\n",
      "Learning rate: 0.001000\n",
      "No improvement for 1 epoches\n",
      "\n",
      "Epoch 9/50\n",
      "------------------------------\n"
     ]
    },
    {
     "name": "stderr",
     "output_type": "stream",
     "text": [
      "                                                                                    \r"
     ]
    },
    {
     "name": "stdout",
     "output_type": "stream",
     "text": [
      "Train Loss: 1.4865 | Train Acc: 0.5386\n",
      "Val Loss:   1.4963 | Val Acc:   0.5333\n",
      "Learning rate: 0.001000\n",
      "New best model: Val Loss: 1.4963 Val Acc: 0.5333)\n",
      "\n",
      "Epoch 10/50\n",
      "------------------------------\n"
     ]
    },
    {
     "name": "stderr",
     "output_type": "stream",
     "text": [
      "                                                                                    \r"
     ]
    },
    {
     "name": "stdout",
     "output_type": "stream",
     "text": [
      "Train Loss: 1.4140 | Train Acc: 0.5566\n",
      "Val Loss:   1.4951 | Val Acc:   0.5313\n",
      "Learning rate: 0.001000\n",
      "New best model: Val Loss: 1.4951 Val Acc: 0.5313)\n",
      "\n",
      "Epoch 11/50\n",
      "------------------------------\n"
     ]
    },
    {
     "name": "stderr",
     "output_type": "stream",
     "text": [
      "                                                                                    \r"
     ]
    },
    {
     "name": "stdout",
     "output_type": "stream",
     "text": [
      "Train Loss: 1.3833 | Train Acc: 0.5664\n",
      "Val Loss:   1.4004 | Val Acc:   0.5602\n",
      "Learning rate: 0.001000\n",
      "New best model: Val Loss: 1.4004 Val Acc: 0.5602)\n",
      "\n",
      "Epoch 12/50\n",
      "------------------------------\n"
     ]
    },
    {
     "name": "stderr",
     "output_type": "stream",
     "text": [
      "                                                                                    \r"
     ]
    },
    {
     "name": "stdout",
     "output_type": "stream",
     "text": [
      "Train Loss: 1.3453 | Train Acc: 0.5731\n",
      "Val Loss:   1.3903 | Val Acc:   0.5592\n",
      "Learning rate: 0.001000\n",
      "New best model: Val Loss: 1.3903 Val Acc: 0.5592)\n",
      "\n",
      "Epoch 13/50\n",
      "------------------------------\n"
     ]
    },
    {
     "name": "stderr",
     "output_type": "stream",
     "text": [
      "                                                                                    \r"
     ]
    },
    {
     "name": "stdout",
     "output_type": "stream",
     "text": [
      "Train Loss: 1.2870 | Train Acc: 0.5948\n",
      "Val Loss:   1.3855 | Val Acc:   0.5781\n",
      "Learning rate: 0.001000\n",
      "New best model: Val Loss: 1.3855 Val Acc: 0.5781)\n",
      "\n",
      "Epoch 14/50\n",
      "------------------------------\n"
     ]
    },
    {
     "name": "stderr",
     "output_type": "stream",
     "text": [
      "                                                                                    \r"
     ]
    },
    {
     "name": "stdout",
     "output_type": "stream",
     "text": [
      "Train Loss: 1.2637 | Train Acc: 0.6037\n",
      "Val Loss:   1.3397 | Val Acc:   0.5751\n",
      "Learning rate: 0.001000\n",
      "New best model: Val Loss: 1.3397 Val Acc: 0.5751)\n",
      "\n",
      "Epoch 15/50\n",
      "------------------------------\n"
     ]
    },
    {
     "name": "stderr",
     "output_type": "stream",
     "text": [
      "                                                                                    \r"
     ]
    },
    {
     "name": "stdout",
     "output_type": "stream",
     "text": [
      "Train Loss: 1.2227 | Train Acc: 0.6113\n",
      "Val Loss:   1.2950 | Val Acc:   0.5831\n",
      "Learning rate: 0.001000\n",
      "New best model: Val Loss: 1.2950 Val Acc: 0.5831)\n",
      "\n",
      "Epoch 16/50\n",
      "------------------------------\n"
     ]
    },
    {
     "name": "stderr",
     "output_type": "stream",
     "text": [
      "                                                                                    \r"
     ]
    },
    {
     "name": "stdout",
     "output_type": "stream",
     "text": [
      "Train Loss: 1.1941 | Train Acc: 0.6192\n",
      "Val Loss:   1.3179 | Val Acc:   0.5980\n",
      "Learning rate: 0.001000\n",
      "No improvement for 1 epoches\n",
      "\n",
      "Epoch 17/50\n",
      "------------------------------\n"
     ]
    },
    {
     "name": "stderr",
     "output_type": "stream",
     "text": [
      "                                                                                    \r"
     ]
    },
    {
     "name": "stdout",
     "output_type": "stream",
     "text": [
      "Train Loss: 1.1723 | Train Acc: 0.6269\n",
      "Val Loss:   1.3280 | Val Acc:   0.5851\n",
      "Learning rate: 0.001000\n",
      "No improvement for 2 epoches\n",
      "\n",
      "Epoch 18/50\n",
      "------------------------------\n"
     ]
    },
    {
     "name": "stderr",
     "output_type": "stream",
     "text": [
      "                                                                                    \r"
     ]
    },
    {
     "name": "stdout",
     "output_type": "stream",
     "text": [
      "Train Loss: 1.1412 | Train Acc: 0.6366\n",
      "Val Loss:   1.2749 | Val Acc:   0.6000\n",
      "Learning rate: 0.001000\n",
      "New best model: Val Loss: 1.2749 Val Acc: 0.6000)\n",
      "\n",
      "Epoch 19/50\n",
      "------------------------------\n"
     ]
    },
    {
     "name": "stderr",
     "output_type": "stream",
     "text": [
      "                                                                                    \r"
     ]
    },
    {
     "name": "stdout",
     "output_type": "stream",
     "text": [
      "Train Loss: 1.1144 | Train Acc: 0.6455\n",
      "Val Loss:   1.3471 | Val Acc:   0.5731\n",
      "Learning rate: 0.001000\n",
      "No improvement for 1 epoches\n",
      "\n",
      "Epoch 20/50\n",
      "------------------------------\n"
     ]
    },
    {
     "name": "stderr",
     "output_type": "stream",
     "text": [
      "                                                                                    \r"
     ]
    },
    {
     "name": "stdout",
     "output_type": "stream",
     "text": [
      "Train Loss: 1.0840 | Train Acc: 0.6567\n",
      "Val Loss:   1.2221 | Val Acc:   0.6209\n",
      "Learning rate: 0.001000\n",
      "New best model: Val Loss: 1.2221 Val Acc: 0.6209)\n",
      "\n",
      "Epoch 21/50\n",
      "------------------------------\n"
     ]
    },
    {
     "name": "stderr",
     "output_type": "stream",
     "text": [
      "                                                                                    \r"
     ]
    },
    {
     "name": "stdout",
     "output_type": "stream",
     "text": [
      "Train Loss: 1.0770 | Train Acc: 0.6575\n",
      "Val Loss:   1.2605 | Val Acc:   0.6040\n",
      "Learning rate: 0.001000\n",
      "No improvement for 1 epoches\n",
      "\n",
      "Epoch 22/50\n",
      "------------------------------\n"
     ]
    },
    {
     "name": "stderr",
     "output_type": "stream",
     "text": [
      "                                                                                    \r"
     ]
    },
    {
     "name": "stdout",
     "output_type": "stream",
     "text": [
      "Train Loss: 1.0415 | Train Acc: 0.6670\n",
      "Val Loss:   1.2336 | Val Acc:   0.6119\n",
      "Learning rate: 0.001000\n",
      "No improvement for 2 epoches\n",
      "\n",
      "Epoch 23/50\n",
      "------------------------------\n"
     ]
    },
    {
     "name": "stderr",
     "output_type": "stream",
     "text": [
      "                                                                                    \r"
     ]
    },
    {
     "name": "stdout",
     "output_type": "stream",
     "text": [
      "Train Loss: 1.0144 | Train Acc: 0.6728\n",
      "Val Loss:   1.1986 | Val Acc:   0.6348\n",
      "Learning rate: 0.001000\n",
      "New best model: Val Loss: 1.1986 Val Acc: 0.6348)\n",
      "\n",
      "Epoch 24/50\n",
      "------------------------------\n"
     ]
    },
    {
     "name": "stderr",
     "output_type": "stream",
     "text": [
      "                                                                                    \r"
     ]
    },
    {
     "name": "stdout",
     "output_type": "stream",
     "text": [
      "Train Loss: 0.9946 | Train Acc: 0.6813\n",
      "Val Loss:   1.2187 | Val Acc:   0.6179\n",
      "Learning rate: 0.001000\n",
      "No improvement for 1 epoches\n",
      "\n",
      "Epoch 25/50\n",
      "------------------------------\n"
     ]
    },
    {
     "name": "stderr",
     "output_type": "stream",
     "text": [
      "                                                                                    \r"
     ]
    },
    {
     "name": "stdout",
     "output_type": "stream",
     "text": [
      "Train Loss: 0.9889 | Train Acc: 0.6816\n",
      "Val Loss:   1.1641 | Val Acc:   0.6358\n",
      "Learning rate: 0.001000\n",
      "New best model: Val Loss: 1.1641 Val Acc: 0.6358)\n",
      "\n",
      "Epoch 26/50\n",
      "------------------------------\n"
     ]
    },
    {
     "name": "stderr",
     "output_type": "stream",
     "text": [
      "                                                                                    \r"
     ]
    },
    {
     "name": "stdout",
     "output_type": "stream",
     "text": [
      "Train Loss: 0.9639 | Train Acc: 0.6872\n",
      "Val Loss:   1.2723 | Val Acc:   0.6139\n",
      "Learning rate: 0.001000\n",
      "No improvement for 1 epoches\n",
      "\n",
      "Epoch 27/50\n",
      "------------------------------\n"
     ]
    },
    {
     "name": "stderr",
     "output_type": "stream",
     "text": [
      "                                                                                    \r"
     ]
    },
    {
     "name": "stdout",
     "output_type": "stream",
     "text": [
      "Train Loss: 0.9418 | Train Acc: 0.6935\n",
      "Val Loss:   1.1953 | Val Acc:   0.6249\n",
      "Learning rate: 0.001000\n",
      "No improvement for 2 epoches\n",
      "\n",
      "Epoch 28/50\n",
      "------------------------------\n"
     ]
    },
    {
     "name": "stderr",
     "output_type": "stream",
     "text": [
      "                                                                                    \r"
     ]
    },
    {
     "name": "stdout",
     "output_type": "stream",
     "text": [
      "Train Loss: 0.9197 | Train Acc: 0.7001\n",
      "Val Loss:   1.1481 | Val Acc:   0.6478\n",
      "Learning rate: 0.001000\n",
      "New best model: Val Loss: 1.1481 Val Acc: 0.6478)\n",
      "\n",
      "Epoch 29/50\n",
      "------------------------------\n"
     ]
    },
    {
     "name": "stderr",
     "output_type": "stream",
     "text": [
      "                                                                                    \r"
     ]
    },
    {
     "name": "stdout",
     "output_type": "stream",
     "text": [
      "Train Loss: 0.9074 | Train Acc: 0.7032\n",
      "Val Loss:   1.1676 | Val Acc:   0.6408\n",
      "Learning rate: 0.001000\n",
      "No improvement for 1 epoches\n",
      "\n",
      "Epoch 30/50\n",
      "------------------------------\n"
     ]
    },
    {
     "name": "stderr",
     "output_type": "stream",
     "text": [
      "                                                                                    \r"
     ]
    },
    {
     "name": "stdout",
     "output_type": "stream",
     "text": [
      "Train Loss: 0.8910 | Train Acc: 0.7077\n",
      "Val Loss:   1.1982 | Val Acc:   0.6219\n",
      "Learning rate: 0.001000\n",
      "No improvement for 2 epoches\n",
      "\n",
      "Epoch 31/50\n",
      "------------------------------\n"
     ]
    },
    {
     "name": "stderr",
     "output_type": "stream",
     "text": [
      "                                                                                    \r"
     ]
    },
    {
     "name": "stdout",
     "output_type": "stream",
     "text": [
      "Train Loss: 0.8618 | Train Acc: 0.7236\n",
      "Val Loss:   1.1932 | Val Acc:   0.6368\n",
      "Learning rate: 0.001000\n",
      "No improvement for 3 epoches\n",
      "\n",
      "Epoch 32/50\n",
      "------------------------------\n"
     ]
    },
    {
     "name": "stderr",
     "output_type": "stream",
     "text": [
      "                                                                                    \r"
     ]
    },
    {
     "name": "stdout",
     "output_type": "stream",
     "text": [
      "Train Loss: 0.8472 | Train Acc: 0.7224\n",
      "Val Loss:   1.1888 | Val Acc:   0.6388\n",
      "Learning rate: 0.001000\n",
      "No improvement for 4 epoches\n",
      "\n",
      "Epoch 33/50\n",
      "------------------------------\n"
     ]
    },
    {
     "name": "stderr",
     "output_type": "stream",
     "text": [
      "                                                                                    \r"
     ]
    },
    {
     "name": "stdout",
     "output_type": "stream",
     "text": [
      "Train Loss: 0.8492 | Train Acc: 0.7260\n",
      "Val Loss:   1.1370 | Val Acc:   0.6557\n",
      "Learning rate: 0.001000\n",
      "New best model: Val Loss: 1.1370 Val Acc: 0.6557)\n",
      "\n",
      "Epoch 34/50\n",
      "------------------------------\n"
     ]
    },
    {
     "name": "stderr",
     "output_type": "stream",
     "text": [
      "                                                                                    \r"
     ]
    },
    {
     "name": "stdout",
     "output_type": "stream",
     "text": [
      "Train Loss: 0.8236 | Train Acc: 0.7321\n",
      "Val Loss:   1.1490 | Val Acc:   0.6498\n",
      "Learning rate: 0.001000\n",
      "No improvement for 1 epoches\n",
      "\n",
      "Epoch 35/50\n",
      "------------------------------\n"
     ]
    },
    {
     "name": "stderr",
     "output_type": "stream",
     "text": [
      "                                                                                    \r"
     ]
    },
    {
     "name": "stdout",
     "output_type": "stream",
     "text": [
      "Train Loss: 0.8293 | Train Acc: 0.7305\n",
      "Val Loss:   1.1966 | Val Acc:   0.6428\n",
      "Learning rate: 0.001000\n",
      "No improvement for 2 epoches\n",
      "\n",
      "Epoch 36/50\n",
      "------------------------------\n"
     ]
    },
    {
     "name": "stderr",
     "output_type": "stream",
     "text": [
      "                                                                                    \r"
     ]
    },
    {
     "name": "stdout",
     "output_type": "stream",
     "text": [
      "Train Loss: 0.8043 | Train Acc: 0.7311\n",
      "Val Loss:   1.2395 | Val Acc:   0.6249\n",
      "Learning rate: 0.001000\n",
      "No improvement for 3 epoches\n",
      "\n",
      "Epoch 37/50\n",
      "------------------------------\n"
     ]
    },
    {
     "name": "stderr",
     "output_type": "stream",
     "text": [
      "                                                                                    \r"
     ]
    },
    {
     "name": "stdout",
     "output_type": "stream",
     "text": [
      "Train Loss: 0.7859 | Train Acc: 0.7363\n",
      "Val Loss:   1.1722 | Val Acc:   0.6468\n",
      "Learning rate: 0.001000\n",
      "No improvement for 4 epoches\n",
      "\n",
      "Epoch 38/50\n",
      "------------------------------\n"
     ]
    },
    {
     "name": "stderr",
     "output_type": "stream",
     "text": [
      "                                                                                    \r"
     ]
    },
    {
     "name": "stdout",
     "output_type": "stream",
     "text": [
      "Train Loss: 0.7754 | Train Acc: 0.7412\n",
      "Val Loss:   1.1206 | Val Acc:   0.6647\n",
      "Learning rate: 0.001000\n",
      "New best model: Val Loss: 1.1206 Val Acc: 0.6647)\n",
      "\n",
      "Epoch 39/50\n",
      "------------------------------\n"
     ]
    },
    {
     "name": "stderr",
     "output_type": "stream",
     "text": [
      "                                                                                    \r"
     ]
    },
    {
     "name": "stdout",
     "output_type": "stream",
     "text": [
      "Train Loss: 0.7638 | Train Acc: 0.7425\n",
      "Val Loss:   1.2097 | Val Acc:   0.6378\n",
      "Learning rate: 0.001000\n",
      "No improvement for 1 epoches\n",
      "\n",
      "Epoch 40/50\n",
      "------------------------------\n"
     ]
    },
    {
     "name": "stderr",
     "output_type": "stream",
     "text": [
      "                                                                                    \r"
     ]
    },
    {
     "name": "stdout",
     "output_type": "stream",
     "text": [
      "Train Loss: 0.7433 | Train Acc: 0.7562\n",
      "Val Loss:   1.1775 | Val Acc:   0.6398\n",
      "Learning rate: 0.001000\n",
      "No improvement for 2 epoches\n",
      "\n",
      "Epoch 41/50\n",
      "------------------------------\n"
     ]
    },
    {
     "name": "stderr",
     "output_type": "stream",
     "text": [
      "                                                                                    \r"
     ]
    },
    {
     "name": "stdout",
     "output_type": "stream",
     "text": [
      "Train Loss: 0.7354 | Train Acc: 0.7517\n",
      "Val Loss:   1.1849 | Val Acc:   0.6776\n",
      "Learning rate: 0.001000\n",
      "No improvement for 3 epoches\n",
      "\n",
      "Epoch 42/50\n",
      "------------------------------\n"
     ]
    },
    {
     "name": "stderr",
     "output_type": "stream",
     "text": [
      "                                                                                    \r"
     ]
    },
    {
     "name": "stdout",
     "output_type": "stream",
     "text": [
      "Train Loss: 0.7208 | Train Acc: 0.7583\n",
      "Val Loss:   1.1868 | Val Acc:   0.6507\n",
      "Learning rate: 0.001000\n",
      "No improvement for 4 epoches\n",
      "\n",
      "Epoch 43/50\n",
      "------------------------------\n"
     ]
    },
    {
     "name": "stderr",
     "output_type": "stream",
     "text": [
      "                                                                                    \r"
     ]
    },
    {
     "name": "stdout",
     "output_type": "stream",
     "text": [
      "Train Loss: 0.7145 | Train Acc: 0.7600\n",
      "Val Loss:   1.1975 | Val Acc:   0.6478\n",
      "Learning rate: 0.001000\n",
      "No improvement for 5 epoches\n",
      "\n",
      "Epoch 44/50\n",
      "------------------------------\n"
     ]
    },
    {
     "name": "stderr",
     "output_type": "stream",
     "text": [
      "                                                                                    \r"
     ]
    },
    {
     "name": "stdout",
     "output_type": "stream",
     "text": [
      "Train Loss: 0.7249 | Train Acc: 0.7556\n",
      "Val Loss:   1.1560 | Val Acc:   0.6557\n",
      "Learning rate: 0.000500\n",
      "No improvement for 6 epoches\n",
      "\n",
      "Epoch 45/50\n",
      "------------------------------\n"
     ]
    },
    {
     "name": "stderr",
     "output_type": "stream",
     "text": [
      "                                                                                    \r"
     ]
    },
    {
     "name": "stdout",
     "output_type": "stream",
     "text": [
      "Train Loss: 0.5949 | Train Acc: 0.8012\n",
      "Val Loss:   1.0936 | Val Acc:   0.6796\n",
      "Learning rate: 0.000500\n",
      "New best model: Val Loss: 1.0936 Val Acc: 0.6796)\n",
      "\n",
      "Epoch 46/50\n",
      "------------------------------\n"
     ]
    },
    {
     "name": "stderr",
     "output_type": "stream",
     "text": [
      "                                                                                    \r"
     ]
    },
    {
     "name": "stdout",
     "output_type": "stream",
     "text": [
      "Train Loss: 0.5595 | Train Acc: 0.8117\n",
      "Val Loss:   1.0912 | Val Acc:   0.6776\n",
      "Learning rate: 0.000500\n",
      "New best model: Val Loss: 1.0912 Val Acc: 0.6776)\n",
      "\n",
      "Epoch 47/50\n",
      "------------------------------\n"
     ]
    },
    {
     "name": "stderr",
     "output_type": "stream",
     "text": [
      "                                                                                    \r"
     ]
    },
    {
     "name": "stdout",
     "output_type": "stream",
     "text": [
      "Train Loss: 0.5554 | Train Acc: 0.8124\n",
      "Val Loss:   1.1034 | Val Acc:   0.6856\n",
      "Learning rate: 0.000500\n",
      "No improvement for 1 epoches\n",
      "\n",
      "Epoch 48/50\n",
      "------------------------------\n"
     ]
    },
    {
     "name": "stderr",
     "output_type": "stream",
     "text": [
      "                                                                                    \r"
     ]
    },
    {
     "name": "stdout",
     "output_type": "stream",
     "text": [
      "Train Loss: 0.5345 | Train Acc: 0.8214\n",
      "Val Loss:   1.0821 | Val Acc:   0.6866\n",
      "Learning rate: 0.000500\n",
      "New best model: Val Loss: 1.0821 Val Acc: 0.6866)\n",
      "\n",
      "Epoch 49/50\n",
      "------------------------------\n"
     ]
    },
    {
     "name": "stderr",
     "output_type": "stream",
     "text": [
      "                                                                                    \r"
     ]
    },
    {
     "name": "stdout",
     "output_type": "stream",
     "text": [
      "Train Loss: 0.5384 | Train Acc: 0.8204\n",
      "Val Loss:   1.1245 | Val Acc:   0.6846\n",
      "Learning rate: 0.000500\n",
      "No improvement for 1 epoches\n",
      "\n",
      "Epoch 50/50\n",
      "------------------------------\n"
     ]
    },
    {
     "name": "stderr",
     "output_type": "stream",
     "text": [
      "                                                                                    "
     ]
    },
    {
     "name": "stdout",
     "output_type": "stream",
     "text": [
      "Train Loss: 0.5217 | Train Acc: 0.8241\n",
      "Val Loss:   1.1116 | Val Acc:   0.6796\n",
      "Learning rate: 0.000500\n",
      "No improvement for 2 epoches\n",
      "\n",
      "Loaded best model from epoch 48\n",
      "\n",
      "Training complete\n",
      "Best Val Loss: 1.0821\n",
      "Best Val Acc: 0.6866\n"
     ]
    },
    {
     "name": "stderr",
     "output_type": "stream",
     "text": [
      "\r"
     ]
    }
   ],
   "source": [
    "model2 = SignLanguageSimple_LSTM(num_classes = 25)\n",
    "train_loss2, train_acc2, val_loss2, val_acc2 = train_model(\n",
    "    model2, train_dataloader, val_dataloader, save_path = 'modeling/models/lstm.pt', epoches=50, learning_rate = 0.001, lr_patience = 5)"
   ]
  },
  {
   "cell_type": "code",
   "execution_count": 6,
   "id": "4092a599",
   "metadata": {},
   "outputs": [
    {
     "data": {
      "text/plain": [
       "\"\\nimport matplotlib.pyplot as plt\\n\\n# cnn\\nplt.figure(figsize=(12, 4))\\n\\nplt.subplot(1, 2, 1)\\nplt.plot(train_loss, label='Train Loss')\\nplt.plot(val_loss, label='Val Loss')\\nplt.legend()\\nplt.title('CNN Loss')\\n\\nplt.subplot(1, 2, 2)\\nplt.plot(train_acc, label='Train Acc')\\nplt.plot(val_acc, label='Val Acc')\\nplt.legend()\\nplt.title('CNN Accuracy')\\n\\nplt.tight_layout()\\nplt.show()\\n\\n# lstm\\nplt.figure(figsize=(12, 4))\\n\\nplt.subplot(1, 2, 1)\\nplt.plot(train_loss2, label='Train Loss')\\nplt.plot(val_loss2, label='Val Loss')\\nplt.legend()\\nplt.title('LSTM Loss')\\n\\nplt.subplot(1, 2, 2)\\nplt.plot(train_acc2, label='Train Acc')\\nplt.plot(val_acc2, label='Val Acc')\\nplt.legend()\\nplt.title('LSTM Accuracy')\\n\\nplt.tight_layout()\\nplt.show()\\n\""
      ]
     },
     "execution_count": 6,
     "metadata": {},
     "output_type": "execute_result"
    }
   ],
   "source": [
    "'''\n",
    "import matplotlib.pyplot as plt\n",
    "\n",
    "# cnn\n",
    "plt.figure(figsize=(12, 4))\n",
    "\n",
    "plt.subplot(1, 2, 1)\n",
    "plt.plot(train_loss, label='Train Loss')\n",
    "plt.plot(val_loss, label='Val Loss')\n",
    "plt.legend()\n",
    "plt.title('CNN Loss')\n",
    "\n",
    "plt.subplot(1, 2, 2)\n",
    "plt.plot(train_acc, label='Train Acc')\n",
    "plt.plot(val_acc, label='Val Acc')\n",
    "plt.legend()\n",
    "plt.title('CNN Accuracy')\n",
    "\n",
    "plt.tight_layout()\n",
    "plt.show()\n",
    "\n",
    "# lstm\n",
    "plt.figure(figsize=(12, 4))\n",
    "\n",
    "plt.subplot(1, 2, 1)\n",
    "plt.plot(train_loss2, label='Train Loss')\n",
    "plt.plot(val_loss2, label='Val Loss')\n",
    "plt.legend()\n",
    "plt.title('LSTM Loss')\n",
    "\n",
    "plt.subplot(1, 2, 2)\n",
    "plt.plot(train_acc2, label='Train Acc')\n",
    "plt.plot(val_acc2, label='Val Acc')\n",
    "plt.legend()\n",
    "plt.title('LSTM Accuracy')\n",
    "\n",
    "plt.tight_layout()\n",
    "plt.show()\n",
    "'''"
   ]
  },
  {
   "cell_type": "markdown",
   "id": "1e84cc6e",
   "metadata": {},
   "source": [
    "## **Evaluation, Reflection**\n",
    "\n",
    "- Overall during many training runs (which aren't present in the notebook) the basic 1d cnn model almost always performed better than my challenger lstm model, tried a few hyperparameters for both of the models\n",
    "- Kept both models really lightweight, both has less than 1 million parameters\n",
    "\n",
    "- The basic model achieved 73% accuracy on the dataset, which consisted of 25 signs and all of their sequences\n",
    "- The challenger model achieved 68 - 69% accuracy on same dataset\n",
    "\n",
    "- As the confusion matrix shows there were some signs which were really hard to predict especially the signs:\n",
    "    - awake - 0\n",
    "    - wake - 23 \n",
    "\n",
    "- I think if I were to train on a larger dataset (the current one had around 10K sequences so around 1/10th of the original),\n",
    "the challenger model would outperform the basic one because it scales better with larger dataset\n",
    "    - obviously would need to increase parameter size\n"
   ]
  },
  {
   "cell_type": "code",
   "execution_count": 7,
   "id": "765516bf",
   "metadata": {},
   "outputs": [
    {
     "name": "stderr",
     "output_type": "stream",
     "text": [
      "Testing: 100%|██████████| 32/32 [00:00<00:00, 61.20it/s]\n"
     ]
    },
    {
     "name": "stdout",
     "output_type": "stream",
     "text": [
      "Accuracy:  0.7237\n",
      "Precision: 0.7331\n",
      "Recall:    0.7237\n",
      "F1-Score:  0.7192\n"
     ]
    },
    {
     "data": {
      "image/png": "[encoded data removed]",
      "text/plain": [
       "<Figure size 1000x800 with 2 Axes>"
      ]
     },
     "metadata": {},
     "output_type": "display_data"
    },
    {
     "name": "stdout",
     "output_type": "stream",
     "text": [
      "Per class breakdown:\n",
      "                 precision    recall  f1-score   support\n",
      "\n",
      "      awake (0)       0.45      0.25      0.32        40\n",
      "      brown (1)       0.84      0.65      0.73        40\n",
      "        bye (2)       0.65      0.85      0.74        40\n",
      "        cat (3)       0.82      0.80      0.81        40\n",
      "        cow (4)       0.72      0.56      0.63        41\n",
      "     donkey (5)       0.70      0.76      0.73        41\n",
      "       duck (6)       0.80      1.00      0.89        40\n",
      "    fireman (7)       0.79      0.78      0.78        40\n",
      "      first (8)       0.83      0.75      0.79        40\n",
      "       hear (9)       0.75      0.68      0.71        40\n",
      "      lips (10)       0.82      0.78      0.79        40\n",
      "    listen (11)       0.61      0.67      0.64        42\n",
      "      look (12)       0.90      0.66      0.76        41\n",
      "      make (13)       0.68      0.90      0.77        40\n",
      "     mouse (14)       0.79      0.73      0.76        41\n",
      "      nuts (15)       0.82      0.68      0.74        40\n",
      "       pen (16)       0.56      0.62      0.59        40\n",
      "   pretend (17)       0.95      0.50      0.66        40\n",
      "      shhh (18)       0.90      0.95      0.93        40\n",
      "    sleepy (19)       0.82      0.93      0.87        40\n",
      "     think (20)       0.71      0.85      0.77        40\n",
      "toothbrush (21)       0.71      0.75      0.73        40\n",
      "     uncle (22)       0.73      0.95      0.83        40\n",
      "      wake (23)       0.40      0.53      0.45        40\n",
      " yesterday (24)       0.56      0.55      0.56        40\n",
      "\n",
      "       accuracy                           0.72      1006\n",
      "      macro avg       0.73      0.72      0.72      1006\n",
      "   weighted avg       0.73      0.72      0.72      1006\n",
      "\n"
     ]
    }
   ],
   "source": [
    "model_cnn = SignLanguageCNN_pooling(num_classes=25)\n",
    "model_cnn.load_state_dict(torch.load('modeling/models/cnn.pt'))\n",
    "\n",
    "accuracy, precision, recall, f1 = evaluate_model(model_cnn, test_dataloader, label_mapping_25)"
   ]
  },
  {
   "cell_type": "code",
   "execution_count": 8,
   "id": "2d2c5fda",
   "metadata": {},
   "outputs": [
    {
     "name": "stderr",
     "output_type": "stream",
     "text": [
      "Testing: 100%|██████████| 32/32 [00:00<00:00, 47.38it/s]\n"
     ]
    },
    {
     "name": "stdout",
     "output_type": "stream",
     "text": [
      "Accuracy:  0.6849\n",
      "Precision: 0.6879\n",
      "Recall:    0.6849\n",
      "F1-Score:  0.6820\n"
     ]
    },
    {
     "data": {
      "image/png": "[encoded data removed]",
      "text/plain": [
       "<Figure size 1000x800 with 2 Axes>"
      ]
     },
     "metadata": {},
     "output_type": "display_data"
    },
    {
     "name": "stdout",
     "output_type": "stream",
     "text": [
      "Per class breakdown:\n",
      "                 precision    recall  f1-score   support\n",
      "\n",
      "      awake (0)       0.44      0.60      0.51        40\n",
      "      brown (1)       0.87      0.65      0.74        40\n",
      "        bye (2)       0.65      0.65      0.65        40\n",
      "        cat (3)       0.68      0.65      0.67        40\n",
      "        cow (4)       0.53      0.61      0.57        41\n",
      "     donkey (5)       0.64      0.56      0.60        41\n",
      "       duck (6)       0.83      0.95      0.88        40\n",
      "    fireman (7)       0.80      0.82      0.81        40\n",
      "      first (8)       0.74      0.72      0.73        40\n",
      "       hear (9)       0.51      0.62      0.56        40\n",
      "      lips (10)       0.88      0.88      0.88        40\n",
      "    listen (11)       0.54      0.52      0.53        42\n",
      "      look (12)       0.53      0.56      0.55        41\n",
      "      make (13)       0.78      0.90      0.84        40\n",
      "     mouse (14)       0.64      0.78      0.70        41\n",
      "      nuts (15)       0.86      0.78      0.82        40\n",
      "       pen (16)       0.53      0.50      0.51        40\n",
      "   pretend (17)       0.74      0.50      0.60        40\n",
      "      shhh (18)       0.88      0.90      0.89        40\n",
      "    sleepy (19)       0.86      0.90      0.88        40\n",
      "     think (20)       0.70      0.75      0.72        40\n",
      "toothbrush (21)       0.82      0.70      0.76        40\n",
      "     uncle (22)       0.78      0.88      0.82        40\n",
      "      wake (23)       0.44      0.28      0.34        40\n",
      " yesterday (24)       0.54      0.47      0.51        40\n",
      "\n",
      "       accuracy                           0.68      1006\n",
      "      macro avg       0.69      0.69      0.68      1006\n",
      "   weighted avg       0.69      0.68      0.68      1006\n",
      "\n"
     ]
    }
   ],
   "source": [
    "model_lstm = SignLanguageSimple_LSTM(num_classes=25)\n",
    "model_lstm.load_state_dict(torch.load('modeling/models/lstm.pt'))\n",
    "\n",
    "accuracy2, precision2, recall2, f12 = evaluate_model(model_lstm, test_dataloader, label_mapping_25)"
   ]
  }
 ],
 "metadata": {
  "kernelspec": {
   "display_name": ".venv",
   "language": "python",
   "name": "python3"
  },
  "language_info": {
   "codemirror_mode": {
    "name": "ipython",
    "version": 3
   },
   "file_extension": ".py",
   "mimetype": "text/x-python",
   "name": "python",
   "nbconvert_exporter": "python",
   "pygments_lexer": "ipython3",
   "version": "3.13.2"
  }
 },
 "nbformat": 4,
 "nbformat_minor": 5
}
